{
 "cells": [
  {
   "cell_type": "code",
   "execution_count": null,
   "id": "0f1a95b6-5ee6-46d5-af1f-ef23d9c1edd9",
   "metadata": {},
   "outputs": [],
   "source": [
    "\"งานเเรก ชื่อ-สกุล รหัสนักศึกษา\"\n",
    "\n",
    "\"นายธนบดี ผ่านพินิจ 6612732110\""
   ]
  }
 ],
 "metadata": {
  "kernelspec": {
   "display_name": "Python 3 (ipykernel)",
   "language": "python",
   "name": "python3"
  },
  "language_info": {
   "codemirror_mode": {
    "name": "ipython",
    "version": 3
   },
   "file_extension": ".py",
   "mimetype": "text/x-python",
   "name": "python",
   "nbconvert_exporter": "python",
   "pygments_lexer": "ipython3",
   "version": "3.11.5"
  }
 },
 "nbformat": 4,
 "nbformat_minor": 5
}
